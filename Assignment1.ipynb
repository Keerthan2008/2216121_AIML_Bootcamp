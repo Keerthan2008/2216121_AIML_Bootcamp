{
  "nbformat": 4,
  "nbformat_minor": 0,
  "metadata": {
    "colab": {
      "name": "Untitled3.ipynb",
      "provenance": [],
      "authorship_tag": "ABX9TyOHwsE8GWLLuHHe7KfOCf6h",
      "include_colab_link": true
    },
    "kernelspec": {
      "name": "python3",
      "display_name": "Python 3"
    },
    "language_info": {
      "name": "python"
    }
  },
  "cells": [
    {
      "cell_type": "markdown",
      "metadata": {
        "id": "view-in-github",
        "colab_type": "text"
      },
      "source": [
        "<a href=\"https://colab.research.google.com/github/Keerthan2008/2216121_AIML_Bootcamp/blob/main/Assignment1.ipynb\" target=\"_parent\"><img src=\"https://colab.research.google.com/assets/colab-badge.svg\" alt=\"Open In Colab\"/></a>"
      ]
    },
    {
      "cell_type": "markdown",
      "source": [
        "Q1)Implement the methods of String with examples."
      ],
      "metadata": {
        "id": "ICp5WIITDF1Q"
      }
    },
    {
      "cell_type": "code",
      "source": [
        "s='hello'\n",
        "#indexing\n",
        "print(s[-1])\n",
        "print(s[2])\n",
        "#slicing \n",
        "print(s[:])\n",
        "#strip()\n",
        "s1='   keerthan  '\n",
        "print(s1.strip())\n",
        "print(s1.lstrip()) #left strip\n",
        "print(s1.rstrip()) #right strip\n",
        "s2='welcome'\n",
        "print(s2.upper()) \n",
        "print(s2.lower())\n",
        "print(s2.capitalize()) \n",
        "print(s2.swapcase())\n",
        "print(s2.title())"
      ],
      "metadata": {
        "colab": {
          "base_uri": "https://localhost:8080/"
        },
        "id": "JzZMalPpIBih",
        "outputId": "af172d31-97e3-46e1-bf8c-648dfc7443dd"
      },
      "execution_count": 5,
      "outputs": [
        {
          "output_type": "stream",
          "name": "stdout",
          "text": [
            "o\n",
            "l\n",
            "hello\n",
            "keerthan\n",
            "keerthan  \n",
            "   keerthan\n",
            "WELCOME\n",
            "welcome\n",
            "Welcome\n",
            "WELCOME\n",
            "Welcome\n"
          ]
        }
      ]
    },
    {
      "cell_type": "markdown",
      "source": [
        "Q2) Implement the methods of List with examples."
      ],
      "metadata": {
        "id": "DQ9-AIO1IdKP"
      }
    },
    {
      "cell_type": "code",
      "source": [
        "l=[1,3,2,4]\n",
        "print(l)\n",
        "print(len(l))\n",
        "l.append('hello')\n",
        "print(l)\n",
        "l.extend([5,6,7])\n",
        "print(l)\n",
        "l.insert(4,5)\n",
        "print(l)\n",
        "l.pop(5)\n",
        "print(l)\n",
        "l.remove(7)\n",
        "print(l)\n",
        "l.reverse()\n",
        "print(l)\n",
        "l.sort()\n",
        "print(l)\n",
        "l.clear()\n",
        "print(l)"
      ],
      "metadata": {
        "colab": {
          "base_uri": "https://localhost:8080/"
        },
        "id": "rW6Efoh-Ifqk",
        "outputId": "42f78e03-1048-4751-b2d7-5fa4a569cc53"
      },
      "execution_count": 2,
      "outputs": [
        {
          "output_type": "stream",
          "name": "stdout",
          "text": [
            "[1, 3, 2, 4]\n",
            "4\n",
            "[1, 3, 2, 4, 'hello']\n",
            "[1, 3, 2, 4, 'hello', 5, 6, 7]\n",
            "[1, 3, 2, 4, 5, 'hello', 5, 6, 7]\n",
            "[1, 3, 2, 4, 5, 5, 6, 7]\n",
            "[1, 3, 2, 4, 5, 5, 6]\n",
            "[6, 5, 5, 4, 2, 3, 1]\n",
            "[1, 2, 3, 4, 5, 5, 6]\n",
            "[]\n"
          ]
        }
      ]
    },
    {
      "cell_type": "markdown",
      "source": [
        "Q3)Implement the methods of Tuple with examples"
      ],
      "metadata": {
        "id": "HR_PLe1-L-mr"
      }
    },
    {
      "cell_type": "code",
      "source": [
        "t=('keerthan','kittu','roxtar',26,99)\n",
        "print(t)\n",
        "print(len(t))\n",
        "t1=(10,20,30,99,30,30)\n",
        "#indexing\n",
        "print(t1[0])\n",
        "print(t1[-1])\n",
        "#slicing \n",
        "print(t1[1:3])\n",
        "print(max(t1))\n",
        "print(min(t1))\n",
        "print(t1.index(99))\n",
        "print(t1.count(30))"
      ],
      "metadata": {
        "colab": {
          "base_uri": "https://localhost:8080/"
        },
        "id": "qAW0ezZHMBGd",
        "outputId": "36482bd6-66d0-48b6-c102-edc69a08f183"
      },
      "execution_count": 4,
      "outputs": [
        {
          "output_type": "stream",
          "name": "stdout",
          "text": [
            "('keerthan', 'kittu', 'roxtar', 26, 99)\n",
            "5\n",
            "10\n",
            "30\n",
            "(20, 30)\n",
            "99\n",
            "10\n",
            "3\n",
            "3\n"
          ]
        }
      ]
    },
    {
      "cell_type": "markdown",
      "source": [
        "Q4) Implement the methods of Dictionary with examples."
      ],
      "metadata": {
        "id": "W_1R6ogHMd6B"
      }
    },
    {
      "cell_type": "code",
      "source": [
        "d={1:1,2:4,3:9,4:16,5:25,'name':'ram','roll':26,'address':'hnk'}\n",
        "print(d)\n",
        "print(d.items())\n",
        "print(d.popitem())\n",
        "print(d.keys())\n",
        "print(d.values())\n",
        "print(d.get('name'))"
      ],
      "metadata": {
        "colab": {
          "base_uri": "https://localhost:8080/"
        },
        "id": "_oPcysY6Mgkj",
        "outputId": "63d4c227-e7cf-47a2-d677-3c2b235f684c"
      },
      "execution_count": 6,
      "outputs": [
        {
          "output_type": "stream",
          "name": "stdout",
          "text": [
            "{1: 1, 2: 4, 3: 9, 4: 16, 5: 25, 'name': 'ram', 'roll': 26, 'address': 'hnk'}\n",
            "dict_items([(1, 1), (2, 4), (3, 9), (4, 16), (5, 25), ('name', 'ram'), ('roll', 26), ('address', 'hnk')])\n",
            "('address', 'hnk')\n",
            "dict_keys([1, 2, 3, 4, 5, 'name', 'roll'])\n",
            "dict_values([1, 4, 9, 16, 25, 'ram', 26])\n",
            "ram\n"
          ]
        }
      ]
    },
    {
      "cell_type": "markdown",
      "source": [
        "Q5) Implement the methods of Set with examples."
      ],
      "metadata": {
        "id": "9lSuWS4HMrMT"
      }
    },
    {
      "cell_type": "code",
      "source": [
        "s={1,2,3,4,5}\n",
        "s.add(6)\n",
        "print(s)\n",
        "s.update([6,7,8])\n",
        "print(s)\n",
        "s.remove(5)\n",
        "print(s)\n",
        "s.discard(4)\n",
        "print(s)\n",
        "s1={4,5,1,2,9,10}\n",
        "#union\n",
        "print(s|s1)\n",
        "print(s.union(s1))\n",
        "print(s1.union(s))\n",
        "#intersection\n",
        "print(s&s1)\n",
        "print(s.intersection(s1))\n",
        "print(s1.intersection(s))\n",
        "#difference\n",
        "print(s-s1)\n",
        "print(s.difference(s1))"
      ],
      "metadata": {
        "colab": {
          "base_uri": "https://localhost:8080/"
        },
        "id": "SG7eQg1KMuOf",
        "outputId": "b5c0412f-2522-4aa7-a4c5-0414fff8ef56"
      },
      "execution_count": 7,
      "outputs": [
        {
          "output_type": "stream",
          "name": "stdout",
          "text": [
            "{1, 2, 3, 4, 5, 6}\n",
            "{1, 2, 3, 4, 5, 6, 7, 8}\n",
            "{1, 2, 3, 4, 6, 7, 8}\n",
            "{1, 2, 3, 6, 7, 8}\n",
            "{1, 2, 3, 4, 5, 6, 7, 8, 9, 10}\n",
            "{1, 2, 3, 4, 5, 6, 7, 8, 9, 10}\n",
            "{1, 2, 3, 4, 5, 6, 7, 8, 9, 10}\n",
            "{1, 2}\n",
            "{1, 2}\n",
            "{1, 2}\n",
            "{8, 3, 6, 7}\n",
            "{8, 3, 6, 7}\n"
          ]
        }
      ]
    },
    {
      "cell_type": "markdown",
      "source": [
        "Q6)Write a python program to convert Decimal to Binary, Octal and Hexadecimal with direct method."
      ],
      "metadata": {
        "id": "uBNQtgx2M7AE"
      }
    },
    {
      "cell_type": "code",
      "source": [
        "num=int(input(\"Enter a number=\"))\n",
        "print(bin(num))\n",
        "print(oct(num))\n",
        "print(hex(num))"
      ],
      "metadata": {
        "colab": {
          "base_uri": "https://localhost:8080/"
        },
        "id": "YuiVV6oyM8Q6",
        "outputId": "5094e83b-a288-4d1f-fbb1-71e7d39397ae"
      },
      "execution_count": 9,
      "outputs": [
        {
          "output_type": "stream",
          "name": "stdout",
          "text": [
            "Enter a number=14\n",
            "0b1110\n",
            "0o16\n",
            "0xe\n"
          ]
        }
      ]
    },
    {
      "cell_type": "markdown",
      "source": [
        "Q7) Implement Arithmetic operators with examples"
      ],
      "metadata": {
        "id": "ZLmFRqTCNNrA"
      }
    },
    {
      "cell_type": "code",
      "source": [
        "a=int(input(\"Enter a number=\"))\n",
        "b=int(input(\"Enter a number=\"))\n",
        "print(a+b)\n",
        "print(abs(a-b))\n",
        "print(a*b)\n",
        "print(a/b)\n",
        "print(a%b)\n",
        "print(a**b)\n",
        "print(a//b)"
      ],
      "metadata": {
        "colab": {
          "base_uri": "https://localhost:8080/"
        },
        "id": "W8U_gQ5SNP0h",
        "outputId": "13651fed-13f6-4c71-be84-bb2be24c7170"
      },
      "execution_count": 10,
      "outputs": [
        {
          "output_type": "stream",
          "name": "stdout",
          "text": [
            "Enter a number=5\n",
            "Enter a number=2\n",
            "7\n",
            "3\n",
            "10\n",
            "2.5\n",
            "1\n",
            "25\n",
            "2\n"
          ]
        }
      ]
    },
    {
      "cell_type": "markdown",
      "source": [
        "Q8) Implement Assignment operators with examples."
      ],
      "metadata": {
        "id": "WUWhfuk-NeZd"
      }
    },
    {
      "cell_type": "code",
      "source": [
        "x=5\n",
        "y=15\n",
        "print(x)\n",
        "x+=3\n",
        "print(x)\n",
        "x-=3\n",
        "print(x)\n",
        "x*=3\n",
        "print(x)\n",
        "x/=3\n",
        "print(x)\n",
        "x%=3\n",
        "print(x)\n",
        "y//=3\n",
        "print(y)\n",
        "y**=3\n",
        "print(y)"
      ],
      "metadata": {
        "colab": {
          "base_uri": "https://localhost:8080/"
        },
        "id": "KhI5xCx7N2wJ",
        "outputId": "9dc78f85-660d-4632-fe27-367618428e50"
      },
      "execution_count": 11,
      "outputs": [
        {
          "output_type": "stream",
          "name": "stdout",
          "text": [
            "5\n",
            "8\n",
            "5\n",
            "15\n",
            "5.0\n",
            "2.0\n",
            "5\n",
            "125\n"
          ]
        }
      ]
    },
    {
      "cell_type": "markdown",
      "source": [
        "Q9) Implement Comparison operators with examples."
      ],
      "metadata": {
        "id": "a4w7oRNwOGJ1"
      }
    },
    {
      "cell_type": "code",
      "source": [
        "x1=10\n",
        "y1=20\n",
        "print(x1==y1)\n",
        "print(x1!=y1)\n",
        "print(x1>y1)\n",
        "print(x1<y1)\n",
        "print(x1>=y1)\n",
        "print(x1<=y1)"
      ],
      "metadata": {
        "colab": {
          "base_uri": "https://localhost:8080/"
        },
        "id": "OwI9l1vmOJIR",
        "outputId": "1c56d149-cc6d-4302-fba8-0bdbcf5588b8"
      },
      "execution_count": 12,
      "outputs": [
        {
          "output_type": "stream",
          "name": "stdout",
          "text": [
            "False\n",
            "True\n",
            "False\n",
            "True\n",
            "False\n",
            "True\n"
          ]
        }
      ]
    },
    {
      "cell_type": "markdown",
      "source": [
        "Q10) Implement Logical operators with examples."
      ],
      "metadata": {
        "id": "tqhy6THsOMhh"
      }
    },
    {
      "cell_type": "code",
      "source": [
        "a1=10\n",
        "b1=5\n",
        "print(a1==5 and b1==10)\n",
        "print(a1==10 or b1==5)\n",
        "print(not a1==b1)"
      ],
      "metadata": {
        "colab": {
          "base_uri": "https://localhost:8080/"
        },
        "id": "VrPGxzgTOQvw",
        "outputId": "f8a97f22-1c78-49be-b174-09e0e9fa11a5"
      },
      "execution_count": 13,
      "outputs": [
        {
          "output_type": "stream",
          "name": "stdout",
          "text": [
            "False\n",
            "True\n",
            "True\n"
          ]
        }
      ]
    },
    {
      "cell_type": "markdown",
      "source": [
        "Q11)Implement Bitwise operators with examples"
      ],
      "metadata": {
        "id": "_PbOM2HPOUh4"
      }
    },
    {
      "cell_type": "code",
      "source": [
        "c=1\n",
        "d=2\n",
        "print(c==19 & d==25)\n",
        "print(c&d)\n",
        "print(c==25|d==20)\n",
        "print(c&d)\n",
        "print(c^d)\n",
        "print(~c)\n",
        "print(c>>2)\n",
        "print(d<<2)"
      ],
      "metadata": {
        "colab": {
          "base_uri": "https://localhost:8080/"
        },
        "id": "ElO9ZV2nOXVD",
        "outputId": "1c7068bc-8df3-46c1-eb31-c6c90cefc03b"
      },
      "execution_count": 14,
      "outputs": [
        {
          "output_type": "stream",
          "name": "stdout",
          "text": [
            "False\n",
            "0\n",
            "False\n",
            "0\n",
            "3\n",
            "-2\n",
            "0\n",
            "8\n"
          ]
        }
      ]
    },
    {
      "cell_type": "markdown",
      "source": [
        "Q12)Implement Membership operators with examples."
      ],
      "metadata": {
        "id": "eQ8UZhvFOaz-"
      }
    },
    {
      "cell_type": "code",
      "source": [
        "str1=\"hello world\"\n",
        "print('h' in str1)\n",
        "print('a' in str1)\n",
        "print(\"llo\" in str1)\n",
        "print('h' not in str1)\n",
        "print('a' not in str1)\n",
        "print(\"llo\" not in str1)"
      ],
      "metadata": {
        "colab": {
          "base_uri": "https://localhost:8080/"
        },
        "id": "eTYyDE3TOcl2",
        "outputId": "951bb8b5-84d7-4f2e-efa1-b56b6ac3f44b"
      },
      "execution_count": 15,
      "outputs": [
        {
          "output_type": "stream",
          "name": "stdout",
          "text": [
            "True\n",
            "False\n",
            "True\n",
            "False\n",
            "True\n",
            "False\n"
          ]
        }
      ]
    },
    {
      "cell_type": "markdown",
      "source": [
        "Q13)Implement Identity operators with examples"
      ],
      "metadata": {
        "id": "7AAGBL_0OjTp"
      }
    },
    {
      "cell_type": "code",
      "source": [
        "e=10\n",
        "f='10'\n",
        "print(e is f)\n",
        "print(e is not f)"
      ],
      "metadata": {
        "colab": {
          "base_uri": "https://localhost:8080/"
        },
        "id": "jl9ZQK2TOkdz",
        "outputId": "a4e36fb4-7471-46d7-87c7-8ed2f9767a5a"
      },
      "execution_count": 16,
      "outputs": [
        {
          "output_type": "stream",
          "name": "stdout",
          "text": [
            "False\n",
            "True\n"
          ]
        }
      ]
    },
    {
      "cell_type": "markdown",
      "source": [
        "Q14)Demonstrate Negative indexing for List and apply slicing."
      ],
      "metadata": {
        "id": "nEb5Dki7Ooxk"
      }
    },
    {
      "cell_type": "code",
      "source": [
        "l1=[1,2,3,4,5,36,99,'hello']\n",
        "# negative indexing\n",
        "print(l1[-1])\n",
        "print(l1[-8])\n",
        "print(l1[-3])\n",
        "#slicing\n",
        "print(l1[1:])\n",
        "print(l1[:])\n",
        "print(l1[::-1])"
      ],
      "metadata": {
        "colab": {
          "base_uri": "https://localhost:8080/"
        },
        "id": "br8AfdX9OrIw",
        "outputId": "f4700e21-2d82-4549-c338-6bcb15f34e17"
      },
      "execution_count": 17,
      "outputs": [
        {
          "output_type": "stream",
          "name": "stdout",
          "text": [
            "hello\n",
            "1\n",
            "36\n",
            "[2, 3, 4, 5, 36, 99, 'hello']\n",
            "[1, 2, 3, 4, 5, 36, 99, 'hello']\n",
            "['hello', 99, 36, 5, 4, 3, 2, 1]\n"
          ]
        }
      ]
    },
    {
      "cell_type": "markdown",
      "source": [
        "Q15)Predict the output for the given code snippet and justify the result."
      ],
      "metadata": {
        "id": "VIi8Uh53OzZs"
      }
    },
    {
      "cell_type": "code",
      "source": [
        "print( 'A series of characters designated as one object known as a string'[::-1][4::3] )\n",
        "#[::-1] it is for reversing and [4::3] it starts from 4 th index with step size as 3\n",
        "print(\"------------\")\n",
        "print( 'welcome to Python traing program'[3:10][::-1])\n",
        "#[3:10] it starts from 3 rd index and stops at 10 th index and the it will reverse the string"
      ],
      "metadata": {
        "colab": {
          "base_uri": "https://localhost:8080/"
        },
        "id": "SZPcqHBzO-_g",
        "outputId": "28ac1f85-f31f-4de6-9c57-218eea236cb2"
      },
      "execution_count": 18,
      "outputs": [
        {
          "output_type": "stream",
          "name": "stdout",
          "text": [
            "taawkcbe  tgestrcoeeA\n",
            "------------\n",
            "ot emoc\n"
          ]
        }
      ]
    },
    {
      "cell_type": "markdown",
      "source": [
        "Q16)Write a python code to get desired output; Input string : p_phrase = \"was it a car or a cat I saw\"; Output string : WAS I TAC A RO RAC A TI SAW\n",
        "\n"
      ],
      "metadata": {
        "id": "Zu1kb-iGPJ7l"
      }
    },
    {
      "cell_type": "code",
      "source": [
        "p_phrase=\"was it a car or a cat I saw\"\n",
        "str22=p_phrase.upper()\n",
        "print(str22[::-1])"
      ],
      "metadata": {
        "colab": {
          "base_uri": "https://localhost:8080/"
        },
        "id": "mXSunFTJPOLt",
        "outputId": "4dc18057-5f18-45c6-c554-39256bc8250f"
      },
      "execution_count": 19,
      "outputs": [
        {
          "output_type": "stream",
          "name": "stdout",
          "text": [
            "WAS I TAC A RO RAC A TI SAW\n"
          ]
        }
      ]
    },
    {
      "cell_type": "markdown",
      "source": [
        "Q17). You are required to generate a word similar to ZOO, X and Y that denote the number of Zs and Os respectively. The generated word similar to ZOO where Y= 2 * X. Input X= 2 Output ZZOOOO Input X= 5 Output ZZZZZOOOOOOOOOO"
      ],
      "metadata": {
        "id": "HjPe-LNdPTKt"
      }
    },
    {
      "cell_type": "code",
      "source": [
        "x=int(input(\"Enter a number=\"))\n",
        "y=2*x\n",
        "print('x=',x)\n",
        "print('y=',y)\n",
        "print('Z'*x,'O'*y,sep='')"
      ],
      "metadata": {
        "colab": {
          "base_uri": "https://localhost:8080/"
        },
        "id": "oGl2Cs3DPUKI",
        "outputId": "0a877468-ad84-403b-d754-f2d217af96f2"
      },
      "execution_count": 20,
      "outputs": [
        {
          "output_type": "stream",
          "name": "stdout",
          "text": [
            "Enter a number=6\n",
            "x= 6\n",
            "y= 12\n",
            "ZZZZZZOOOOOOOOOOOO\n"
          ]
        }
      ]
    }
  ]
}