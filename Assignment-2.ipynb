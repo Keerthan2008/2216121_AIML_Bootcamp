{
  "nbformat": 4,
  "nbformat_minor": 0,
  "metadata": {
    "colab": {
      "name": "Untitled4.ipynb",
      "provenance": [],
      "authorship_tag": "ABX9TyPu4E8IjDfm++jIZ1kFJrUS",
      "include_colab_link": true
    },
    "kernelspec": {
      "name": "python3",
      "display_name": "Python 3"
    },
    "language_info": {
      "name": "python"
    }
  },
  "cells": [
    {
      "cell_type": "markdown",
      "metadata": {
        "id": "view-in-github",
        "colab_type": "text"
      },
      "source": [
        "<a href=\"https://colab.research.google.com/github/Keerthan2008/2216121_AIML_Bootcamp/blob/main/Assignment-2.ipynb\" target=\"_parent\"><img src=\"https://colab.research.google.com/assets/colab-badge.svg\" alt=\"Open In Colab\"/></a>"
      ]
    },
    {
      "cell_type": "code",
      "execution_count": 3,
      "metadata": {
        "colab": {
          "base_uri": "https://localhost:8080/"
        },
        "id": "hxboFjayZKgc",
        "outputId": "17c443c8-7199-4b68-9ace-79598a8d2b55"
      },
      "outputs": [
        {
          "output_type": "stream",
          "name": "stdout",
          "text": [
            "true\n",
            "100\n"
          ]
        }
      ],
      "source": [
        "#if statement\n",
        "var=100\n",
        "if var>0:\n",
        "  print(\"true\")\n",
        "  print(var)"
      ]
    },
    {
      "cell_type": "code",
      "source": [
        "var1=0\n",
        "if var1>0:\n",
        "  print(\"true\")\n",
        "  print(var1)"
      ],
      "metadata": {
        "id": "wHIpozr_Z3gT"
      },
      "execution_count": 4,
      "outputs": []
    },
    {
      "cell_type": "code",
      "source": [
        "#if else statement\n",
        "v=-1\n",
        "if v>0:\n",
        "  print(\"true\")\n",
        "  print(v)\n",
        "else:\n",
        "  print(\"flase\")\n",
        "  print(v)"
      ],
      "metadata": {
        "colab": {
          "base_uri": "https://localhost:8080/"
        },
        "id": "xG5B1CmeZ6Aa",
        "outputId": "ef64fc17-89f5-4a55-a50d-552a9a0a4cad"
      },
      "execution_count": 5,
      "outputs": [
        {
          "output_type": "stream",
          "name": "stdout",
          "text": [
            "flase\n",
            "-1\n"
          ]
        }
      ]
    },
    {
      "cell_type": "code",
      "source": [
        "#nested if statements\n",
        "#bus tickets\n",
        "age=int(input(\"Enter age=\"))\n",
        "if age>12 and age<=18 :\n",
        "  if age<15:\n",
        "    print(\"Quarter ticket \")\n",
        "  elif age==15:\n",
        "    print(\"Quarter ticket + discount\")\n",
        "  else:\n",
        "    print(\"half ticket\")\n",
        "elif age>=19 and age<=60:\n",
        "  print(\"Full ticket\")\n",
        "elif age>60:\n",
        "  print(\"Full ticket + discount\")\n",
        "else:\n",
        "  print(\"No ticket\")"
      ],
      "metadata": {
        "colab": {
          "base_uri": "https://localhost:8080/"
        },
        "id": "trbgblAmZ-qa",
        "outputId": "1352d256-c8f4-4dad-c2ed-d6afd1b68bd7"
      },
      "execution_count": 6,
      "outputs": [
        {
          "output_type": "stream",
          "name": "stdout",
          "text": [
            "Enter age=27\n",
            "Full ticket\n"
          ]
        }
      ]
    },
    {
      "cell_type": "code",
      "source": [
        "#for loop\n",
        "num=[1,3,5,7,9,11,13,15,17,19]\n",
        "sum=0\n",
        "for val in num:\n",
        "  sum+=val;\n",
        "print(\"The sum is =\",sum)\n",
        "print(\"\\n\")\n",
        "for i in range(1,11):\n",
        "  print(i)\n",
        "print(\"\\n\")\n",
        "for i in range(1,11,2):\n",
        "  print(i)\n",
        "\n",
        "print(\"\\n\")\n",
        "x=[1,2,3,4,5,6,7]\n",
        "y=[]\n",
        "for a in x:\n",
        "  if a%2==0:\n",
        "    y.append(a)\n",
        "print(y)"
      ],
      "metadata": {
        "colab": {
          "base_uri": "https://localhost:8080/"
        },
        "id": "EBH6BI_caE58",
        "outputId": "310cd6c0-ccbf-4450-d5fe-793ea83aad09"
      },
      "execution_count": 7,
      "outputs": [
        {
          "output_type": "stream",
          "name": "stdout",
          "text": [
            "The sum is = 100\n",
            "\n",
            "\n",
            "1\n",
            "2\n",
            "3\n",
            "4\n",
            "5\n",
            "6\n",
            "7\n",
            "8\n",
            "9\n",
            "10\n",
            "\n",
            "\n",
            "1\n",
            "3\n",
            "5\n",
            "7\n",
            "9\n",
            "\n",
            "\n",
            "[2, 4, 6]\n"
          ]
        }
      ]
    },
    {
      "cell_type": "code",
      "source": [
        ""
      ],
      "metadata": {
        "id": "hdd4QhDkaOlp"
      },
      "execution_count": null,
      "outputs": []
    },
    {
      "cell_type": "code",
      "source": [
        "# using statements in for loop\n",
        "digit=[0,1,5]\n",
        "for i in digit:\n",
        "  print(i)\n",
        "else:\n",
        "  print(\"no items left\")\n",
        "print(\"\\n\")\n",
        "for l in \"python\":\n",
        "  print(\"current letter :\",l)"
      ],
      "metadata": {
        "colab": {
          "base_uri": "https://localhost:8080/"
        },
        "id": "JMDgKHMIaVye",
        "outputId": "e6672725-045c-44a1-8f47-40c69c4b1b2f"
      },
      "execution_count": 8,
      "outputs": [
        {
          "output_type": "stream",
          "name": "stdout",
          "text": [
            "0\n",
            "1\n",
            "5\n",
            "no items left\n",
            "\n",
            "\n",
            "current letter : p\n",
            "current letter : y\n",
            "current letter : t\n",
            "current letter : h\n",
            "current letter : o\n",
            "current letter : n\n"
          ]
        }
      ]
    },
    {
      "cell_type": "code",
      "source": [
        "\n",
        "#iterating by sequence indexing\n",
        "fruit=['apple','banana','grapes']\n",
        "for index in range(len(fruit)):\n",
        "  print(\"current fruit:\",fruit[index])"
      ],
      "metadata": {
        "colab": {
          "base_uri": "https://localhost:8080/"
        },
        "id": "2k0lf736ad15",
        "outputId": "fd5b5313-ea84-435a-d7ed-193f27988424"
      },
      "execution_count": 9,
      "outputs": [
        {
          "output_type": "stream",
          "name": "stdout",
          "text": [
            "current fruit: apple\n",
            "current fruit: banana\n",
            "current fruit: grapes\n"
          ]
        }
      ]
    },
    {
      "cell_type": "code",
      "source": [
        "#while\n",
        "i=1\n",
        "while i<=10:\n",
        "  print(i)\n",
        "  i+=1\n",
        "print(\"\\n\")\n",
        "i=0\n",
        "while i<5:\n",
        "  print(i,\"is less then 5\")\n",
        "  i+=1\n",
        "else:\n",
        "  print(i,\"is not less then 5\")"
      ],
      "metadata": {
        "colab": {
          "base_uri": "https://localhost:8080/"
        },
        "id": "SDofOyn8bAn_",
        "outputId": "4109e98e-2287-4801-ce28-2aa0b930a0cf"
      },
      "execution_count": 10,
      "outputs": [
        {
          "output_type": "stream",
          "name": "stdout",
          "text": [
            "1\n",
            "2\n",
            "3\n",
            "4\n",
            "5\n",
            "6\n",
            "7\n",
            "8\n",
            "9\n",
            "10\n",
            "\n",
            "\n",
            "0 is less then 5\n",
            "1 is less then 5\n",
            "2 is less then 5\n",
            "3 is less then 5\n",
            "4 is less then 5\n",
            "5 is not less then 5\n"
          ]
        }
      ]
    },
    {
      "cell_type": "code",
      "source": [
        "#nested loops\n",
        "print(\"addition\")\n",
        "x=[[12,7,3],\n",
        "   [4,5,6],\n",
        "   [7,8,9]]\n",
        "y=[[5,8,1],[1,1,0],[5,3,7]]\n",
        "res=[[0,0,0],[0,0,0],[0,0,0]]\n",
        "for i in range(len(x)):\n",
        "  for j in range(len(x[0])):\n",
        "    res[i][j]=x[i][j] + y[i][j]\n",
        "for r in res:\n",
        "  print(r)\n",
        "print(\"\\n\")\n",
        "print(\"Subtraction\")\n",
        "res=[[0,0,0],[0,0,0],[0,0,0]]\n",
        "for i in range(len(x)):\n",
        "  for j in range(len(x[0])):\n",
        "    res[i][j]=x[i][j] - y[i][j]\n",
        "for r in res:\n",
        "  print(r)\n",
        "print(\"\\n\")\n",
        "print(\"Multiplication\")\n",
        "res=[[0,0,0],[0,0,0],[0,0,0]]\n",
        "for i in range(len(x)):\n",
        "  for j in range(len(x[0])):\n",
        "    res[i][j]=x[i][j] * y[i][j]\n",
        "for r in res:\n",
        "  print(r)"
      ],
      "metadata": {
        "colab": {
          "base_uri": "https://localhost:8080/"
        },
        "id": "nW11oBYsbEm2",
        "outputId": "d41ae4ad-b888-4a6b-bc91-fef1c6bd74a3"
      },
      "execution_count": 11,
      "outputs": [
        {
          "output_type": "stream",
          "name": "stdout",
          "text": [
            "addition\n",
            "[17, 15, 4]\n",
            "[5, 6, 6]\n",
            "[12, 11, 16]\n",
            "\n",
            "\n",
            "Subtraction\n",
            "[7, -1, 2]\n",
            "[3, 4, 6]\n",
            "[2, 5, 2]\n",
            "\n",
            "\n",
            "Multiplication\n",
            "[60, 56, 3]\n",
            "[4, 5, 0]\n",
            "[35, 24, 63]\n"
          ]
        }
      ]
    },
    {
      "cell_type": "code",
      "source": [
        "n1=int(input(\"Enter till which table you want to print\"))\n",
        "i=1\n",
        "while(i<=n1):\n",
        "  print(f\"Table{i}\")\n",
        "  j=1\n",
        "  while(j<=10):\n",
        "    print(f\"{i}*{j}={i*j}\")\n",
        "    j+=1\n",
        "  print(\"________________\")\n",
        "  i+=1"
      ],
      "metadata": {
        "colab": {
          "base_uri": "https://localhost:8080/"
        },
        "id": "I3HQPMSfZ_-4",
        "outputId": "e0e1e861-f1e6-44a0-f383-7fedb041de99"
      },
      "execution_count": 12,
      "outputs": [
        {
          "output_type": "stream",
          "name": "stdout",
          "text": [
            "Enter till which table you want to print4\n",
            "Table1\n",
            "1*1=1\n",
            "1*2=2\n",
            "1*3=3\n",
            "1*4=4\n",
            "1*5=5\n",
            "1*6=6\n",
            "1*7=7\n",
            "1*8=8\n",
            "1*9=9\n",
            "1*10=10\n",
            "________________\n",
            "Table2\n",
            "2*1=2\n",
            "2*2=4\n",
            "2*3=6\n",
            "2*4=8\n",
            "2*5=10\n",
            "2*6=12\n",
            "2*7=14\n",
            "2*8=16\n",
            "2*9=18\n",
            "2*10=20\n",
            "________________\n",
            "Table3\n",
            "3*1=3\n",
            "3*2=6\n",
            "3*3=9\n",
            "3*4=12\n",
            "3*5=15\n",
            "3*6=18\n",
            "3*7=21\n",
            "3*8=24\n",
            "3*9=27\n",
            "3*10=30\n",
            "________________\n",
            "Table4\n",
            "4*1=4\n",
            "4*2=8\n",
            "4*3=12\n",
            "4*4=16\n",
            "4*5=20\n",
            "4*6=24\n",
            "4*7=28\n",
            "4*8=32\n",
            "4*9=36\n",
            "4*10=40\n",
            "________________\n"
          ]
        }
      ]
    },
    {
      "cell_type": "code",
      "source": [
        "#control statements\n",
        "#break\n",
        "for l in 'python':\n",
        "  if l=='h':\n",
        "    break\n",
        "  print(\"current letter:\",l)\n",
        "print(\"\\n\")\n",
        "i=10\n",
        "while(i>0):\n",
        "  print(\"current value:\",i)\n",
        "  i=i-1\n",
        "  if i==5:\n",
        "    break"
      ],
      "metadata": {
        "colab": {
          "base_uri": "https://localhost:8080/"
        },
        "id": "GEh-NOE9bb_c",
        "outputId": "19c0a4b2-f583-4817-dce1-c627274d3ded"
      },
      "execution_count": 13,
      "outputs": [
        {
          "output_type": "stream",
          "name": "stdout",
          "text": [
            "current letter: p\n",
            "current letter: y\n",
            "current letter: t\n",
            "\n",
            "\n",
            "current value: 10\n",
            "current value: 9\n",
            "current value: 8\n",
            "current value: 7\n",
            "current value: 6\n"
          ]
        }
      ]
    },
    {
      "cell_type": "code",
      "source": [
        "#continue\n",
        "for l in 'python':\n",
        "  if l=='h':\n",
        "    continue\n",
        "  print(\"current letter:\",l)\n",
        "print(\"\\n\")\n",
        "i=10\n",
        "while(i>0):\n",
        "  print(\"current value:\",i)\n",
        "  i=i-1\n",
        "  if i==5:\n",
        "    continue"
      ],
      "metadata": {
        "colab": {
          "base_uri": "https://localhost:8080/"
        },
        "id": "jLb8K9H0cA2X",
        "outputId": "c60f74b3-d4a3-4b72-b4e3-a63c52dcd0d0"
      },
      "execution_count": 14,
      "outputs": [
        {
          "output_type": "stream",
          "name": "stdout",
          "text": [
            "current letter: p\n",
            "current letter: y\n",
            "current letter: t\n",
            "current letter: o\n",
            "current letter: n\n",
            "\n",
            "\n",
            "current value: 10\n",
            "current value: 9\n",
            "current value: 8\n",
            "current value: 7\n",
            "current value: 6\n",
            "current value: 5\n",
            "current value: 4\n",
            "current value: 3\n",
            "current value: 2\n",
            "current value: 1\n"
          ]
        }
      ]
    },
    {
      "cell_type": "code",
      "source": [
        "#pass\n",
        "for l in 'python':\n",
        "  if l=='h':\n",
        "    pass\n",
        "  print(\"This is pass block\")\n",
        "  print(\"current letter:\",l)\n",
        "print(\"\\n\")\n",
        "i=10\n",
        "while(i>0):\n",
        "  print(\"current value:\",i)\n",
        "  i=i-1\n",
        "  if i==5:\n",
        "    print(\"This is pass block\")"
      ],
      "metadata": {
        "colab": {
          "base_uri": "https://localhost:8080/"
        },
        "id": "VXXDSn19cGzz",
        "outputId": "d5183786-308f-4cfb-c3b8-306e9aacde26"
      },
      "execution_count": 15,
      "outputs": [
        {
          "output_type": "stream",
          "name": "stdout",
          "text": [
            "This is pass block\n",
            "current letter: p\n",
            "This is pass block\n",
            "current letter: y\n",
            "This is pass block\n",
            "current letter: t\n",
            "This is pass block\n",
            "current letter: h\n",
            "This is pass block\n",
            "current letter: o\n",
            "This is pass block\n",
            "current letter: n\n",
            "\n",
            "\n",
            "current value: 10\n",
            "current value: 9\n",
            "current value: 8\n",
            "current value: 7\n",
            "current value: 6\n",
            "This is pass block\n",
            "current value: 5\n",
            "current value: 4\n",
            "current value: 3\n",
            "current value: 2\n",
            "current value: 1\n"
          ]
        }
      ]
    },
    {
      "cell_type": "code",
      "source": [
        "str1=input(\"Enter a string\")\n",
        "if(str1==str1[::-1]):\n",
        "  print(\"palindrome\")\n",
        "else:\n",
        "  print(\"not a palindrome\")"
      ],
      "metadata": {
        "colab": {
          "base_uri": "https://localhost:8080/"
        },
        "id": "r5NCrdbRcKKS",
        "outputId": "dab68c0d-5fd8-4c89-e90e-4edd88f50e6a"
      },
      "execution_count": 16,
      "outputs": [
        {
          "output_type": "stream",
          "name": "stdout",
          "text": [
            "Enter a stringdad\n",
            "palindrome\n"
          ]
        }
      ]
    },
    {
      "cell_type": "code",
      "source": [
        "for i in range(1,101):\n",
        "  str2=str(i)\n",
        "  if(str2==str2[::-1]):\n",
        "    print(i)"
      ],
      "metadata": {
        "colab": {
          "base_uri": "https://localhost:8080/"
        },
        "id": "b9WAFtiucQqm",
        "outputId": "e6d668ce-ec8c-4deb-de4d-119a6c280fcd"
      },
      "execution_count": 17,
      "outputs": [
        {
          "output_type": "stream",
          "name": "stdout",
          "text": [
            "1\n",
            "2\n",
            "3\n",
            "4\n",
            "5\n",
            "6\n",
            "7\n",
            "8\n",
            "9\n",
            "11\n",
            "22\n",
            "33\n",
            "44\n",
            "55\n",
            "66\n",
            "77\n",
            "88\n",
            "99\n"
          ]
        }
      ]
    },
    {
      "cell_type": "code",
      "source": [
        "l=[1,2,3,4,5,6,7,8,9,10]\n",
        "for i in range(len(l)):\n",
        "  if(l[i]%2==0):\n",
        "    print(l[i])"
      ],
      "metadata": {
        "colab": {
          "base_uri": "https://localhost:8080/"
        },
        "id": "TfFKb2lVcUw7",
        "outputId": "705a2452-729e-4c9c-d5b0-87e28e94c5de"
      },
      "execution_count": 18,
      "outputs": [
        {
          "output_type": "stream",
          "name": "stdout",
          "text": [
            "2\n",
            "4\n",
            "6\n",
            "8\n",
            "10\n"
          ]
        }
      ]
    },
    {
      "cell_type": "markdown",
      "source": [
        "Write a python program that generates desired output i.e, from countries list select out the country names that contain string “and”\n",
        "\n",
        "Countries_list=[“Finland”,”Germany”,”Sweden”,”Ireland”,”Turkey”]\n",
        "\n",
        "Output: [“Finland”,”Ireland”]"
      ],
      "metadata": {
        "id": "dYEYS9dDcYV7"
      }
    },
    {
      "cell_type": "code",
      "source": [
        "Countries_list=[\"Finland\",\"Germany\",\"Sweden\",\"Ireland\",\"Turkey\"]\n",
        "l=[]\n",
        "for i in Countries_list:\n",
        "  if (\"and\" in i):\n",
        "    l.append(i)\n",
        "print(l)"
      ],
      "metadata": {
        "colab": {
          "base_uri": "https://localhost:8080/"
        },
        "id": "LfaO8Y1McZN9",
        "outputId": "0e185cbd-6283-4fa7-b620-45a8a78ded27"
      },
      "execution_count": 19,
      "outputs": [
        {
          "output_type": "stream",
          "name": "stdout",
          "text": [
            "['Finland', 'Ireland']\n"
          ]
        }
      ]
    },
    {
      "cell_type": "markdown",
      "source": [
        "Write a python program that print respective grades of student:Grade – Outstanding  for marks>=90Grade A+ for marks >=80, <90Grade A for marks >=70, <80Grade B for marks >=60 and <70<60 Grade C"
      ],
      "metadata": {
        "id": "JIbjdTP8cdWh"
      }
    },
    {
      "cell_type": "code",
      "source": [
        "marks=int(input(\"Enter your marks=\"))\n",
        "if(marks>=90):\n",
        "  print(\"outstanding\")\n",
        "elif(marks >=80 & marks<90):\n",
        "  print(\"grade A+\")\n",
        "elif( marks >=70and marks<90):\n",
        "  print(\"grade A\")\n",
        "elif( marks >=60and marks<90):\n",
        "  print(\"garde B\")\n",
        "else:\n",
        "  print(\"garde C\")"
      ],
      "metadata": {
        "colab": {
          "base_uri": "https://localhost:8080/"
        },
        "id": "47oIErPgceEL",
        "outputId": "7c0ea7fb-b2e8-434d-c9e5-6f4d229be0f5"
      },
      "execution_count": 20,
      "outputs": [
        {
          "output_type": "stream",
          "name": "stdout",
          "text": [
            "Enter your marks=95\n",
            "outstanding\n"
          ]
        }
      ]
    },
    {
      "cell_type": "markdown",
      "source": [
        "Create a list with name state list with 5 elements State_list = [“Delhi”,”Telangana”,”Goa”,”AP”,”Kerala”]\n",
        "\n",
        "Write a python program that extract first and last characters of each item and print in desired format.\n",
        "\n",
        "Input: [“Delhi”,”Telangana”,”Goa”,”AP”,”Kerala”]\n",
        "\n",
        "Output: dItAgAaOkA"
      ],
      "metadata": {
        "id": "tyKcJ5JrcnDG"
      }
    },
    {
      "cell_type": "code",
      "source": [
        "list1= [\"Delhi\",\"Telangana\",\"Goa\",\"AP\",\"Kerala\"]\n",
        "for i in range(len(list1)):\n",
        "  str33=list1[i][0]\n",
        "  str22=list1[i][-1] \n",
        "  print((str33+str22).swapcase())"
      ],
      "metadata": {
        "colab": {
          "base_uri": "https://localhost:8080/"
        },
        "id": "UlkduA1Dcn3P",
        "outputId": "0bbae0f1-03b7-45ce-b62b-91b93bb60e2c"
      },
      "execution_count": 21,
      "outputs": [
        {
          "output_type": "stream",
          "name": "stdout",
          "text": [
            "dI\n",
            "tA\n",
            "gA\n",
            "ap\n",
            "kA\n"
          ]
        }
      ]
    },
    {
      "cell_type": "code",
      "source": [
        "#user defined functions\n",
        "def greet(name):\n",
        "  '''this function greets a person'''\n",
        "  print(\"Hello,\\t\"+name+\"\\tGood Morning\")\n",
        "greet(\"Keerthan\")"
      ],
      "metadata": {
        "colab": {
          "base_uri": "https://localhost:8080/"
        },
        "id": "idkijSiictgb",
        "outputId": "8cfea311-393e-4df8-bed4-d0c6f2008bcf"
      },
      "execution_count": 22,
      "outputs": [
        {
          "output_type": "stream",
          "name": "stdout",
          "text": [
            "Hello,\tKeerthan\tGood Morning\n"
          ]
        }
      ]
    },
    {
      "cell_type": "code",
      "source": [
        "#default\n",
        "def A(a,b=1,c=2):\n",
        "  return a+b+c\n",
        "print(A(3))\n",
        "print(A(4,4,4))\n",
        "print(A(2,2))"
      ],
      "metadata": {
        "colab": {
          "base_uri": "https://localhost:8080/"
        },
        "id": "6ZsV-nKDczp1",
        "outputId": "233a4ceb-7b0d-4265-ce6f-7940fe986abe"
      },
      "execution_count": 23,
      "outputs": [
        {
          "output_type": "stream",
          "name": "stdout",
          "text": [
            "6\n",
            "12\n",
            "6\n"
          ]
        }
      ]
    },
    {
      "cell_type": "code",
      "source": [
        "#keyword\n",
        "def A(a,b=1,c=2):\n",
        "  return a+b+c\n",
        "print(A(a=2,b=3))\n",
        "print(A(c=3,b=2,a=1))"
      ],
      "metadata": {
        "colab": {
          "base_uri": "https://localhost:8080/"
        },
        "id": "DmVLG9lveDTG",
        "outputId": "5666ad77-b027-49fe-8514-3dcec6f0912e"
      },
      "execution_count": 24,
      "outputs": [
        {
          "output_type": "stream",
          "name": "stdout",
          "text": [
            "7\n",
            "6\n"
          ]
        }
      ]
    },
    {
      "cell_type": "code",
      "source": [
        "#positional\n",
        "def add(a,b,c):\n",
        "  return a+b+c\n",
        "print(add(10,20,30))\n",
        "print(add(10,b=20,c=30))"
      ],
      "metadata": {
        "colab": {
          "base_uri": "https://localhost:8080/"
        },
        "id": "tnZkQ-82eKM0",
        "outputId": "357179e6-c5c2-4837-e686-7f39b9d59b22"
      },
      "execution_count": 25,
      "outputs": [
        {
          "output_type": "stream",
          "name": "stdout",
          "text": [
            "60\n",
            "60\n"
          ]
        }
      ]
    },
    {
      "cell_type": "code",
      "source": [
        "#arbitrary keyword\n",
        "def key_arg(**kwargs):\n",
        "  return kwargs\n",
        "dict1=key_arg(Apples=10,oranges=20,grapes=30)\n",
        "print(dict1['Apples'])\n",
        "print(dict1)"
      ],
      "metadata": {
        "colab": {
          "base_uri": "https://localhost:8080/"
        },
        "id": "IvHlQpPHeMXI",
        "outputId": "7e112cf9-ab50-4dad-ca32-2df63e111772"
      },
      "execution_count": 26,
      "outputs": [
        {
          "output_type": "stream",
          "name": "stdout",
          "text": [
            "10\n",
            "{'Apples': 10, 'oranges': 20, 'grapes': 30}\n"
          ]
        }
      ]
    },
    {
      "cell_type": "code",
      "source": [
        "#arbitrary keyword\n",
        "def add_num(*n):\n",
        "  print(n)\n",
        "  print(sum(n))\n",
        "add_num(5,11)"
      ],
      "metadata": {
        "colab": {
          "base_uri": "https://localhost:8080/",
          "height": 321
        },
        "id": "LNZ_nqS6eRz3",
        "outputId": "768d6158-bb45-4426-b2b7-27b63f074d82"
      },
      "execution_count": 27,
      "outputs": [
        {
          "output_type": "stream",
          "name": "stdout",
          "text": [
            "(5, 11)\n"
          ]
        },
        {
          "output_type": "error",
          "ename": "TypeError",
          "evalue": "ignored",
          "traceback": [
            "\u001b[0;31m---------------------------------------------------------------------------\u001b[0m",
            "\u001b[0;31mTypeError\u001b[0m                                 Traceback (most recent call last)",
            "\u001b[0;32m<ipython-input-27-fd58803f278e>\u001b[0m in \u001b[0;36m<module>\u001b[0;34m()\u001b[0m\n\u001b[1;32m      3\u001b[0m   \u001b[0mprint\u001b[0m\u001b[0;34m(\u001b[0m\u001b[0mn\u001b[0m\u001b[0;34m)\u001b[0m\u001b[0;34m\u001b[0m\u001b[0;34m\u001b[0m\u001b[0m\n\u001b[1;32m      4\u001b[0m   \u001b[0mprint\u001b[0m\u001b[0;34m(\u001b[0m\u001b[0msum\u001b[0m\u001b[0;34m(\u001b[0m\u001b[0mn\u001b[0m\u001b[0;34m)\u001b[0m\u001b[0;34m)\u001b[0m\u001b[0;34m\u001b[0m\u001b[0;34m\u001b[0m\u001b[0m\n\u001b[0;32m----> 5\u001b[0;31m \u001b[0madd_num\u001b[0m\u001b[0;34m(\u001b[0m\u001b[0;36m5\u001b[0m\u001b[0;34m,\u001b[0m\u001b[0;36m11\u001b[0m\u001b[0;34m)\u001b[0m\u001b[0;34m\u001b[0m\u001b[0;34m\u001b[0m\u001b[0m\n\u001b[0m",
            "\u001b[0;32m<ipython-input-27-fd58803f278e>\u001b[0m in \u001b[0;36madd_num\u001b[0;34m(*n)\u001b[0m\n\u001b[1;32m      2\u001b[0m \u001b[0;32mdef\u001b[0m \u001b[0madd_num\u001b[0m\u001b[0;34m(\u001b[0m\u001b[0;34m*\u001b[0m\u001b[0mn\u001b[0m\u001b[0;34m)\u001b[0m\u001b[0;34m:\u001b[0m\u001b[0;34m\u001b[0m\u001b[0;34m\u001b[0m\u001b[0m\n\u001b[1;32m      3\u001b[0m   \u001b[0mprint\u001b[0m\u001b[0;34m(\u001b[0m\u001b[0mn\u001b[0m\u001b[0;34m)\u001b[0m\u001b[0;34m\u001b[0m\u001b[0;34m\u001b[0m\u001b[0m\n\u001b[0;32m----> 4\u001b[0;31m   \u001b[0mprint\u001b[0m\u001b[0;34m(\u001b[0m\u001b[0msum\u001b[0m\u001b[0;34m(\u001b[0m\u001b[0mn\u001b[0m\u001b[0;34m)\u001b[0m\u001b[0;34m)\u001b[0m\u001b[0;34m\u001b[0m\u001b[0;34m\u001b[0m\u001b[0m\n\u001b[0m\u001b[1;32m      5\u001b[0m \u001b[0madd_num\u001b[0m\u001b[0;34m(\u001b[0m\u001b[0;36m5\u001b[0m\u001b[0;34m,\u001b[0m\u001b[0;36m11\u001b[0m\u001b[0;34m)\u001b[0m\u001b[0;34m\u001b[0m\u001b[0;34m\u001b[0m\u001b[0m\n",
            "\u001b[0;31mTypeError\u001b[0m: 'int' object is not callable"
          ]
        }
      ]
    },
    {
      "cell_type": "code",
      "source": [
        "#higher order functions\n",
        "def shout(text):\n",
        "  return text.upper()\n",
        "def whisper(text):\n",
        "  return text.lower()\n",
        "def explain(func):\n",
        "  greet=func(\"Hi,i am higher order function\")\n",
        "  print(greet)\n",
        "explain(shout)\n",
        "explain(whisper)"
      ],
      "metadata": {
        "colab": {
          "base_uri": "https://localhost:8080/"
        },
        "id": "JVpMcVJieqDh",
        "outputId": "579927a4-f4fc-4509-ee55-a7c3116217dc"
      },
      "execution_count": 28,
      "outputs": [
        {
          "output_type": "stream",
          "name": "stdout",
          "text": [
            "HI,I AM HIGHER ORDER FUNCTION\n",
            "hi,i am higher order function\n"
          ]
        }
      ]
    },
    {
      "cell_type": "code",
      "source": [
        "#lambda\n",
        "def incr(x):\n",
        "  x+=1\n",
        "  return x\n",
        "print(incr(4))\n",
        "print((lambda x:x+1)(4))\n",
        "res=lambda x:x+1\n",
        "print(res(4))"
      ],
      "metadata": {
        "colab": {
          "base_uri": "https://localhost:8080/"
        },
        "id": "EuiVlBfUfk-8",
        "outputId": "14476d0f-aa37-4338-f788-6ad382380f0e"
      },
      "execution_count": 29,
      "outputs": [
        {
          "output_type": "stream",
          "name": "stdout",
          "text": [
            "5\n",
            "5\n",
            "5\n"
          ]
        }
      ]
    },
    {
      "cell_type": "code",
      "source": [
        "print((lambda x,y:x**y)(2,2))\n",
        "print((lambda x,y:x+y)(2,3))\n",
        "res=lambda x,y:x*y\n",
        "print(res(2,3))"
      ],
      "metadata": {
        "colab": {
          "base_uri": "https://localhost:8080/"
        },
        "id": "VZ83DtKFfm7N",
        "outputId": "e3b6048a-e72f-4664-d40c-d88c117f4d39"
      },
      "execution_count": 30,
      "outputs": [
        {
          "output_type": "stream",
          "name": "stdout",
          "text": [
            "4\n",
            "5\n",
            "6\n"
          ]
        }
      ]
    },
    {
      "cell_type": "code",
      "source": [
        "li=[1,2,3,4,5]\n",
        "#res=lambda x:x+2\n",
        "#print(res(li))"
      ],
      "metadata": {
        "id": "fT5VyPmCfsLr"
      },
      "execution_count": 32,
      "outputs": []
    },
    {
      "cell_type": "code",
      "source": [
        "def inc(num):\n",
        "  return num+2\n",
        "res_list=list(map(inc,li))\n",
        "print(res_list)\n",
        "\n",
        "\n",
        "res_list1=list(map(lambda x:x+2,li))\n",
        "print(res_list1)\n",
        "\n",
        "\n",
        "print(list(map(lambda x:x+2,li)))"
      ],
      "metadata": {
        "colab": {
          "base_uri": "https://localhost:8080/"
        },
        "id": "-_yZjcbJf5TN",
        "outputId": "8a4859ce-7ecb-45cb-d653-d7d0e995c51e"
      },
      "execution_count": 33,
      "outputs": [
        {
          "output_type": "stream",
          "name": "stdout",
          "text": [
            "[3, 4, 5, 6, 7]\n",
            "[3, 4, 5, 6, 7]\n",
            "[3, 4, 5, 6, 7]\n"
          ]
        }
      ]
    },
    {
      "cell_type": "code",
      "source": [
        "def eod(num):\n",
        "  if num%2==0 :\n",
        "    return \"The number {} is even\".format(num)\n",
        "  else :\n",
        "    return \"The number {} is odd\".format(num)\n",
        "eod(20)\n",
        "\n",
        "li1=[1,2,3,4,5,6,7,8,9,10]\n",
        "list(map(eod,li1))"
      ],
      "metadata": {
        "colab": {
          "base_uri": "https://localhost:8080/"
        },
        "id": "se8biWmJf76Z",
        "outputId": "1407284c-3560-41d3-b301-20cef2f700b6"
      },
      "execution_count": 34,
      "outputs": [
        {
          "output_type": "execute_result",
          "data": {
            "text/plain": [
              "['The number 1 is odd',\n",
              " 'The number 2 is even',\n",
              " 'The number 3 is odd',\n",
              " 'The number 4 is even',\n",
              " 'The number 5 is odd',\n",
              " 'The number 6 is even',\n",
              " 'The number 7 is odd',\n",
              " 'The number 8 is even',\n",
              " 'The number 9 is odd',\n",
              " 'The number 10 is even']"
            ]
          },
          "metadata": {},
          "execution_count": 34
        }
      ]
    },
    {
      "cell_type": "code",
      "source": [
        "li2=['apple','banana','grapes']\n",
        "res=list(map(lambda x:x.capitalize(),li2))\n",
        "print(res)"
      ],
      "metadata": {
        "colab": {
          "base_uri": "https://localhost:8080/"
        },
        "id": "YdNIsg94f-jv",
        "outputId": "97c500a9-a4b9-45c2-da33-6caf5befbab8"
      },
      "execution_count": 35,
      "outputs": [
        {
          "output_type": "stream",
          "name": "stdout",
          "text": [
            "['Apple', 'Banana', 'Grapes']\n"
          ]
        }
      ]
    },
    {
      "cell_type": "code",
      "source": [
        "#filter\n",
        "def odd_num(n):\n",
        "  if(n%2!=0):\n",
        "    return n\n",
        "li3=[9,26,35,-2,50]\n",
        "print(list(filter(odd_num,li3)))"
      ],
      "metadata": {
        "colab": {
          "base_uri": "https://localhost:8080/"
        },
        "id": "-Ir2G92NgB8c",
        "outputId": "b9ade3e2-d32d-4d71-e080-1857f61e4adb"
      },
      "execution_count": 36,
      "outputs": [
        {
          "output_type": "stream",
          "name": "stdout",
          "text": [
            "[9, 35]\n"
          ]
        }
      ]
    },
    {
      "cell_type": "code",
      "source": [
        "li4=[18,94,33,16,99,22,56,107,34]\n",
        "temp=list(filter(lambda x:x%2==0,li4))\n",
        "print(temp)"
      ],
      "metadata": {
        "colab": {
          "base_uri": "https://localhost:8080/"
        },
        "id": "Zg0F8mPCgJNe",
        "outputId": "d1133774-cb2f-499e-87fb-d0a5cce125cc"
      },
      "execution_count": 37,
      "outputs": [
        {
          "output_type": "stream",
          "name": "stdout",
          "text": [
            "[18, 94, 16, 22, 56, 34]\n"
          ]
        }
      ]
    },
    {
      "cell_type": "code",
      "source": [
        "#modules\n",
        "import os\n",
        "os.mkdir(\"hi\")\n",
        "os.chdir(\"hi\")\n",
        "os.getcwd()\n",
        "os.listdir()\n",
        "os.rmdir(\"/content/hi\")"
      ],
      "metadata": {
        "id": "AoQR31gxgM2d"
      },
      "execution_count": 38,
      "outputs": []
    },
    {
      "cell_type": "code",
      "source": [
        "#math module\n",
        "import math as m\n",
        "print(m.pi)\n",
        "print(m.e)\n",
        "print(m.sqrt(4))\n",
        "print(m.factorial(5))\n",
        "print(m.pow(2,2))\n",
        "print(m.floor(1.4))\n",
        "print(m.tan(5))\n",
        "print(m.log(2))"
      ],
      "metadata": {
        "colab": {
          "base_uri": "https://localhost:8080/"
        },
        "id": "69xiBvW6gPn5",
        "outputId": "7dd5ee36-53aa-42ac-be63-898ba28b8aeb"
      },
      "execution_count": 39,
      "outputs": [
        {
          "output_type": "stream",
          "name": "stdout",
          "text": [
            "3.141592653589793\n",
            "2.718281828459045\n",
            "2.0\n",
            "120\n",
            "4.0\n",
            "1\n",
            "-3.380515006246586\n",
            "0.6931471805599453\n"
          ]
        }
      ]
    },
    {
      "cell_type": "code",
      "source": [
        "#sys module\n",
        "import sys\n",
        "print(sys.path)\n",
        "print(sys.version)\n",
        "print(sys.maxsize)"
      ],
      "metadata": {
        "colab": {
          "base_uri": "https://localhost:8080/"
        },
        "id": "67WXqn2VgS_A",
        "outputId": "c0098c17-0958-4465-fa7d-cee7390e9bf3"
      },
      "execution_count": 40,
      "outputs": [
        {
          "output_type": "stream",
          "name": "stdout",
          "text": [
            "['', '/content', '/env/python', '/usr/lib/python37.zip', '/usr/lib/python3.7', '/usr/lib/python3.7/lib-dynload', '/usr/local/lib/python3.7/dist-packages', '/usr/lib/python3/dist-packages', '/usr/local/lib/python3.7/dist-packages/IPython/extensions', '/root/.ipython']\n",
            "3.7.13 (default, Apr 24 2022, 01:04:09) \n",
            "[GCC 7.5.0]\n",
            "9223372036854775807\n"
          ]
        }
      ]
    },
    {
      "cell_type": "code",
      "source": [
        "#statistics module\n",
        "import statistics as st\n",
        "print(st.mean([21,29,34]))\n",
        "print(st.median([1,2,3,4,5]))\n",
        "print(st.mode([1,2,3,1,1]))"
      ],
      "metadata": {
        "colab": {
          "base_uri": "https://localhost:8080/"
        },
        "id": "UjGEaivTgVTx",
        "outputId": "09a97980-5c77-4de0-9aab-d4c078d125ff"
      },
      "execution_count": 41,
      "outputs": [
        {
          "output_type": "stream",
          "name": "stdout",
          "text": [
            "28\n",
            "3\n",
            "1\n"
          ]
        }
      ]
    },
    {
      "cell_type": "code",
      "source": [
        "#time module\n",
        "import time\n",
        "print(time.time())\n",
        "print(time.localtime())\n",
        "print(time.asctime())\n",
        "print(time.ctime())\n",
        "print(time.sleep(1.5))"
      ],
      "metadata": {
        "colab": {
          "base_uri": "https://localhost:8080/"
        },
        "id": "TVNbhG8sgX49",
        "outputId": "3c1dd73e-a892-4ba1-a45a-a552ecc5ca52"
      },
      "execution_count": 42,
      "outputs": [
        {
          "output_type": "stream",
          "name": "stdout",
          "text": [
            "1655215068.7934322\n",
            "time.struct_time(tm_year=2022, tm_mon=6, tm_mday=14, tm_hour=13, tm_min=57, tm_sec=48, tm_wday=1, tm_yday=165, tm_isdst=0)\n",
            "Tue Jun 14 13:57:48 2022\n",
            "Tue Jun 14 13:57:48 2022\n",
            "None\n"
          ]
        }
      ]
    },
    {
      "cell_type": "code",
      "source": [
        "#random module\n",
        "import random  as r\n",
        "print(r.randrange(1,50))\n",
        "print(r.randint(1,100))\n",
        "print(r.random())"
      ],
      "metadata": {
        "colab": {
          "base_uri": "https://localhost:8080/"
        },
        "id": "f8DlpO4Qgaqx",
        "outputId": "6c567406-ee04-4a93-9ed1-7e4fcf3fe6e0"
      },
      "execution_count": 43,
      "outputs": [
        {
          "output_type": "stream",
          "name": "stdout",
          "text": [
            "30\n",
            "24\n",
            "0.17924641466551927\n"
          ]
        }
      ]
    },
    {
      "cell_type": "code",
      "source": [
        "import random as r\n",
        "g_num=r.randint(0,5)\n",
        "g1_num=int(input(\"Enter a number=\"))\n",
        "if g1_num==g_num :\n",
        "  print(\"you won\")\n",
        "else :\n",
        "  print(\"you lost\")"
      ],
      "metadata": {
        "colab": {
          "base_uri": "https://localhost:8080/"
        },
        "id": "FZ40DFyVgh0z",
        "outputId": "c120ad95-5e47-4dd5-d982-3515356767b0"
      },
      "execution_count": 44,
      "outputs": [
        {
          "output_type": "stream",
          "name": "stdout",
          "text": [
            "Enter a number=3\n",
            "you lost\n"
          ]
        }
      ]
    },
    {
      "cell_type": "markdown",
      "source": [
        "Enter a number=2\n",
        "you lost\n",
        "Write a python program that remove items that are multiples of 5 from list:li=[1,2,5,6,7,10,15,25,65,78,90]o/p: [1,2,6,7,78]"
      ],
      "metadata": {
        "id": "92E59fDbgm52"
      }
    },
    {
      "cell_type": "code",
      "source": [
        "li=[1,2,5,6,7,10,15,25,65,78,90]\n",
        "res=list(filter(lambda x:x%5!=0,li))\n",
        "print(res)"
      ],
      "metadata": {
        "colab": {
          "base_uri": "https://localhost:8080/"
        },
        "id": "BkqCy38Rgl1q",
        "outputId": "2c12dc91-fada-44e8-d80b-1008ba4eeed7"
      },
      "execution_count": 45,
      "outputs": [
        {
          "output_type": "stream",
          "name": "stdout",
          "text": [
            "[1, 2, 6, 7, 78]\n"
          ]
        }
      ]
    },
    {
      "cell_type": "markdown",
      "source": [
        "Write a python program that generates desired output from fruits list. Filter out the fruits names that don’t start with ‘A’\n",
        "\n",
        "Fruit=[“Apple”,”Banana”,”Pear”,”Avacado”,”Orange”,”Amla”]\n",
        "\n",
        "Output: [“Apple”,”Avacado”,”Amla”]"
      ],
      "metadata": {
        "id": "2Ag-aIiGgt7T"
      }
    },
    {
      "cell_type": "code",
      "source": [
        "Fruit=[\"Apple\",\"Banana\",\"Pear\",\"Avacado\",\"Orange\",\"Amla\"]\n",
        "res=list(filter(lambda x:x[0]=='A',Fruit))\n",
        "print(res)"
      ],
      "metadata": {
        "colab": {
          "base_uri": "https://localhost:8080/"
        },
        "id": "nFaEPX2eguqi",
        "outputId": "da71755c-30e0-4913-e7b1-cb5c8094e2c6"
      },
      "execution_count": 46,
      "outputs": [
        {
          "output_type": "stream",
          "name": "stdout",
          "text": [
            "['Apple', 'Avacado', 'Amla']\n"
          ]
        }
      ]
    },
    {
      "cell_type": "markdown",
      "source": [
        "Mssg=”Welcome to gradstellar bootcamp” X=”number of occurrences of ‘o’ in mssg”\n",
        "\n",
        "Y=”number of occurrences of ‘e’ in mssg”\n",
        "\n",
        "Compute (X+Y)2"
      ],
      "metadata": {
        "id": "aj4T3Fb2gxqw"
      }
    },
    {
      "cell_type": "code",
      "source": [
        "Mssg=\"Welcome to gradstellar bootcamp\"\n",
        "x=Mssg.count('o')\n",
        "print(x)\n",
        "y=Mssg.count('e')\n",
        "print(y)\n",
        "print(\"(x+y)^2=\",x*x+y*y+2*x*y)"
      ],
      "metadata": {
        "colab": {
          "base_uri": "https://localhost:8080/"
        },
        "id": "sE_03xJ9gzz2",
        "outputId": "1e8e7966-e179-4b9a-f81b-169402876e87"
      },
      "execution_count": 47,
      "outputs": [
        {
          "output_type": "stream",
          "name": "stdout",
          "text": [
            "4\n",
            "3\n",
            "(x+y)^2= 49\n"
          ]
        }
      ]
    },
    {
      "cell_type": "markdown",
      "source": [
        "Write python program that filters a list by removing the elements that not start with vowel. I/P: [‘apple’,’orange’,’grapes’,’ball’,’bat’,’umbrella’]\n",
        "\n",
        "O/P: [‘apple’,’orange’,’umbrella’]"
      ],
      "metadata": {
        "id": "C-UhdBGwg354"
      }
    },
    {
      "cell_type": "code",
      "source": [
        "list22=[\"apple\",\"orange\",\"grapes\",\"ball\",\"bat\",\"umbrella\"]\n",
        "res=list(filter(lambda x:x[0] in 'AEIOUaeiou',list22))\n",
        "print(res)"
      ],
      "metadata": {
        "colab": {
          "base_uri": "https://localhost:8080/"
        },
        "id": "M_gyXPvJg42B",
        "outputId": "36bf9ab9-633d-43e0-dfd8-cb5d1107aacd"
      },
      "execution_count": 48,
      "outputs": [
        {
          "output_type": "stream",
          "name": "stdout",
          "text": [
            "['apple', 'orange', 'umbrella']\n"
          ]
        }
      ]
    },
    {
      "cell_type": "markdown",
      "source": [
        "Write a python program that displays unique element in a given list using function Li=[56,78,32,45,45,45,19,20]\n",
        "\n",
        "O/P: [56,78,32,45,19,20]"
      ],
      "metadata": {
        "id": "q7NwZPZSg8Up"
      }
    },
    {
      "cell_type": "code",
      "source": [
        "Li23=[56,78,32,45,45,45,19,20]\n",
        "def dup(d):\n",
        "  n=[]\n",
        "  for i in d:\n",
        "    if i not in n:\n",
        "      n.append(i)\n",
        "  return n\n",
        "dup(Li23)"
      ],
      "metadata": {
        "colab": {
          "base_uri": "https://localhost:8080/"
        },
        "id": "lgXRlaNfg9wp",
        "outputId": "f9f3e23e-a871-4241-a1fd-6112699d7c67"
      },
      "execution_count": 49,
      "outputs": [
        {
          "output_type": "execute_result",
          "data": {
            "text/plain": [
              "[56, 78, 32, 45, 19, 20]"
            ]
          },
          "metadata": {},
          "execution_count": 49
        }
      ]
    }
  ]
}